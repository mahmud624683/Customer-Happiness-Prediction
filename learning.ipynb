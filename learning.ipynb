{
 "metadata": {
  "language_info": {
   "codemirror_mode": {
    "name": "ipython",
    "version": 3
   },
   "file_extension": ".py",
   "mimetype": "text/x-python",
   "name": "python",
   "nbconvert_exporter": "python",
   "pygments_lexer": "ipython3",
   "version": "3.8.2-final"
  },
  "orig_nbformat": 2,
  "kernelspec": {
   "name": "Python 3.8.2 64-bit",
   "display_name": "Python 3.8.2 64-bit",
   "metadata": {
    "interpreter": {
     "hash": "31f2aee4e71d21fbe5cf8b01ff0e069b9275f58929596ceb00d14d90e3e16cd6"
    }
   }
  }
 },
 "nbformat": 4,
 "nbformat_minor": 2,
 "cells": [
  {
   "cell_type": "code",
   "execution_count": 48,
   "metadata": {},
   "outputs": [],
   "source": [
    "import pandas as pd\n",
    "import numpy as np\n",
    "from sklearn import linear_model\n",
    "from sklearn.model_selection import train_test_split"
   ]
  },
  {
   "cell_type": "code",
   "execution_count": 49,
   "metadata": {},
   "outputs": [
    {
     "output_type": "execute_result",
     "data": {
      "text/plain": "      overall       RPM       RPA    RNM       RNA  RNP  RNN       SPM  \\\n0           1  0.353553  0.353553  0.375  0.375000    1    1  0.000000   \n1           1  0.353553  0.353553  0.375  0.364277    1    2  0.353553   \n2           1  0.353553  0.353553  0.375  0.375000    1    1  0.000000   \n3           1  0.353553  0.353553  0.375  0.364277    1    2  0.353553   \n4           1  0.353553  0.353553  0.375  0.375000    1    1  0.000000   \n...       ...       ...       ...    ...       ...  ...  ...       ...   \n3139        5  0.250000  0.250000  0.125  0.125000    1    1  0.875000   \n3140        5  0.250000  0.250000  0.125  0.125000    1    1  0.875000   \n3141        5  0.250000  0.250000  0.125  0.125000    1    1  0.875000   \n3142        5  0.250000  0.250000  0.125  0.125000    1    1  0.875000   \n3143        5  0.250000  0.250000  0.125  0.125000    1    1  0.875000   \n\n           SPA    SNM       SNA  SNP  SNN  \n0     0.000000  1.000  1.000000    0    1  \n1     0.353553  0.375  0.364277    1    2  \n2     0.000000  1.000  1.000000    0    1  \n3     0.353553  0.375  0.364277    1    2  \n4     0.000000  1.000  1.000000    0    1  \n...        ...    ...       ...  ...  ...  \n3139  0.416667  0.125  0.125000    3    2  \n3140  0.416667  0.125  0.125000    3    2  \n3141  0.416667  0.125  0.125000    3    2  \n3142  0.416667  0.125  0.125000    3    2  \n3143  0.416667  0.125  0.125000    3    2  \n\n[3144 rows x 13 columns]",
      "text/html": "<div>\n<style scoped>\n    .dataframe tbody tr th:only-of-type {\n        vertical-align: middle;\n    }\n\n    .dataframe tbody tr th {\n        vertical-align: top;\n    }\n\n    .dataframe thead th {\n        text-align: right;\n    }\n</style>\n<table border=\"1\" class=\"dataframe\">\n  <thead>\n    <tr style=\"text-align: right;\">\n      <th></th>\n      <th>overall</th>\n      <th>RPM</th>\n      <th>RPA</th>\n      <th>RNM</th>\n      <th>RNA</th>\n      <th>RNP</th>\n      <th>RNN</th>\n      <th>SPM</th>\n      <th>SPA</th>\n      <th>SNM</th>\n      <th>SNA</th>\n      <th>SNP</th>\n      <th>SNN</th>\n    </tr>\n  </thead>\n  <tbody>\n    <tr>\n      <th>0</th>\n      <td>1</td>\n      <td>0.353553</td>\n      <td>0.353553</td>\n      <td>0.375</td>\n      <td>0.375000</td>\n      <td>1</td>\n      <td>1</td>\n      <td>0.000000</td>\n      <td>0.000000</td>\n      <td>1.000</td>\n      <td>1.000000</td>\n      <td>0</td>\n      <td>1</td>\n    </tr>\n    <tr>\n      <th>1</th>\n      <td>1</td>\n      <td>0.353553</td>\n      <td>0.353553</td>\n      <td>0.375</td>\n      <td>0.364277</td>\n      <td>1</td>\n      <td>2</td>\n      <td>0.353553</td>\n      <td>0.353553</td>\n      <td>0.375</td>\n      <td>0.364277</td>\n      <td>1</td>\n      <td>2</td>\n    </tr>\n    <tr>\n      <th>2</th>\n      <td>1</td>\n      <td>0.353553</td>\n      <td>0.353553</td>\n      <td>0.375</td>\n      <td>0.375000</td>\n      <td>1</td>\n      <td>1</td>\n      <td>0.000000</td>\n      <td>0.000000</td>\n      <td>1.000</td>\n      <td>1.000000</td>\n      <td>0</td>\n      <td>1</td>\n    </tr>\n    <tr>\n      <th>3</th>\n      <td>1</td>\n      <td>0.353553</td>\n      <td>0.353553</td>\n      <td>0.375</td>\n      <td>0.364277</td>\n      <td>1</td>\n      <td>2</td>\n      <td>0.353553</td>\n      <td>0.353553</td>\n      <td>0.375</td>\n      <td>0.364277</td>\n      <td>1</td>\n      <td>2</td>\n    </tr>\n    <tr>\n      <th>4</th>\n      <td>1</td>\n      <td>0.353553</td>\n      <td>0.353553</td>\n      <td>0.375</td>\n      <td>0.375000</td>\n      <td>1</td>\n      <td>1</td>\n      <td>0.000000</td>\n      <td>0.000000</td>\n      <td>1.000</td>\n      <td>1.000000</td>\n      <td>0</td>\n      <td>1</td>\n    </tr>\n    <tr>\n      <th>...</th>\n      <td>...</td>\n      <td>...</td>\n      <td>...</td>\n      <td>...</td>\n      <td>...</td>\n      <td>...</td>\n      <td>...</td>\n      <td>...</td>\n      <td>...</td>\n      <td>...</td>\n      <td>...</td>\n      <td>...</td>\n      <td>...</td>\n    </tr>\n    <tr>\n      <th>3139</th>\n      <td>5</td>\n      <td>0.250000</td>\n      <td>0.250000</td>\n      <td>0.125</td>\n      <td>0.125000</td>\n      <td>1</td>\n      <td>1</td>\n      <td>0.875000</td>\n      <td>0.416667</td>\n      <td>0.125</td>\n      <td>0.125000</td>\n      <td>3</td>\n      <td>2</td>\n    </tr>\n    <tr>\n      <th>3140</th>\n      <td>5</td>\n      <td>0.250000</td>\n      <td>0.250000</td>\n      <td>0.125</td>\n      <td>0.125000</td>\n      <td>1</td>\n      <td>1</td>\n      <td>0.875000</td>\n      <td>0.416667</td>\n      <td>0.125</td>\n      <td>0.125000</td>\n      <td>3</td>\n      <td>2</td>\n    </tr>\n    <tr>\n      <th>3141</th>\n      <td>5</td>\n      <td>0.250000</td>\n      <td>0.250000</td>\n      <td>0.125</td>\n      <td>0.125000</td>\n      <td>1</td>\n      <td>1</td>\n      <td>0.875000</td>\n      <td>0.416667</td>\n      <td>0.125</td>\n      <td>0.125000</td>\n      <td>3</td>\n      <td>2</td>\n    </tr>\n    <tr>\n      <th>3142</th>\n      <td>5</td>\n      <td>0.250000</td>\n      <td>0.250000</td>\n      <td>0.125</td>\n      <td>0.125000</td>\n      <td>1</td>\n      <td>1</td>\n      <td>0.875000</td>\n      <td>0.416667</td>\n      <td>0.125</td>\n      <td>0.125000</td>\n      <td>3</td>\n      <td>2</td>\n    </tr>\n    <tr>\n      <th>3143</th>\n      <td>5</td>\n      <td>0.250000</td>\n      <td>0.250000</td>\n      <td>0.125</td>\n      <td>0.125000</td>\n      <td>1</td>\n      <td>1</td>\n      <td>0.875000</td>\n      <td>0.416667</td>\n      <td>0.125</td>\n      <td>0.125000</td>\n      <td>3</td>\n      <td>2</td>\n    </tr>\n  </tbody>\n</table>\n<p>3144 rows × 13 columns</p>\n</div>"
     },
     "metadata": {},
     "execution_count": 49
    }
   ],
   "source": [
    "#importing daata from csv file\n",
    "df = pd.read_csv('feature.csv')\n",
    "df"
   ]
  },
  {
   "cell_type": "code",
   "execution_count": 50,
   "metadata": {},
   "outputs": [],
   "source": [
    "#test train random split at 3:7 ratio or 30% / 70% rule \n",
    "\n",
    "X_train, X_test = train_test_split(df, test_size=0.3, random_state=42)"
   ]
  },
  {
   "cell_type": "code",
   "execution_count": 51,
   "metadata": {},
   "outputs": [
    {
     "output_type": "execute_result",
     "data": {
      "text/plain": "      overall       RPM       RPA       RNM       RNA  RNP  RNN    SPM    SPA  \\\n2247        5  0.433013  0.433013  0.433013  0.433013    1    1  0.000  0.000   \n2536        5  0.000000  0.000000  0.000000  0.000000    0    0  0.000  0.000   \n2850        5  0.000000  0.000000  0.000000  0.000000    0    0  0.000  0.000   \n2555        5  0.000000  0.000000  0.000000  0.000000    0    0  0.000  0.000   \n549         4  0.250000  0.250000  0.250000  0.250000    1    1  0.000  0.000   \n...       ...       ...       ...       ...       ...  ...  ...    ...    ...   \n3092        5  0.750000  0.750000  0.000000  0.000000    1    0  0.750  0.750   \n1095        5  0.000000  0.000000  0.684653  0.684653    0    1  0.000  0.000   \n1130        5  0.433013  0.433013  0.433013  0.433013    1    1  0.000  0.000   \n1294        5  0.000000  0.000000  0.000000  0.000000    0    0  0.875  0.875   \n860         4  0.000000  0.000000  0.000000  0.000000    0    0  0.750  0.750   \n\n      SNM  SNA  SNP  SNN  \n2247  0.0  0.0    0    0  \n2536  0.0  0.0    0    0  \n2850  0.0  0.0    0    0  \n2555  0.0  0.0    0    0  \n549   0.0  0.0    0    0  \n...   ...  ...  ...  ...  \n3092  0.0  0.0    1    0  \n1095  0.0  0.0    0    0  \n1130  0.0  0.0    0    0  \n1294  0.0  0.0    1    0  \n860   0.0  0.0    1    0  \n\n[2200 rows x 13 columns]",
      "text/html": "<div>\n<style scoped>\n    .dataframe tbody tr th:only-of-type {\n        vertical-align: middle;\n    }\n\n    .dataframe tbody tr th {\n        vertical-align: top;\n    }\n\n    .dataframe thead th {\n        text-align: right;\n    }\n</style>\n<table border=\"1\" class=\"dataframe\">\n  <thead>\n    <tr style=\"text-align: right;\">\n      <th></th>\n      <th>overall</th>\n      <th>RPM</th>\n      <th>RPA</th>\n      <th>RNM</th>\n      <th>RNA</th>\n      <th>RNP</th>\n      <th>RNN</th>\n      <th>SPM</th>\n      <th>SPA</th>\n      <th>SNM</th>\n      <th>SNA</th>\n      <th>SNP</th>\n      <th>SNN</th>\n    </tr>\n  </thead>\n  <tbody>\n    <tr>\n      <th>2247</th>\n      <td>5</td>\n      <td>0.433013</td>\n      <td>0.433013</td>\n      <td>0.433013</td>\n      <td>0.433013</td>\n      <td>1</td>\n      <td>1</td>\n      <td>0.000</td>\n      <td>0.000</td>\n      <td>0.0</td>\n      <td>0.0</td>\n      <td>0</td>\n      <td>0</td>\n    </tr>\n    <tr>\n      <th>2536</th>\n      <td>5</td>\n      <td>0.000000</td>\n      <td>0.000000</td>\n      <td>0.000000</td>\n      <td>0.000000</td>\n      <td>0</td>\n      <td>0</td>\n      <td>0.000</td>\n      <td>0.000</td>\n      <td>0.0</td>\n      <td>0.0</td>\n      <td>0</td>\n      <td>0</td>\n    </tr>\n    <tr>\n      <th>2850</th>\n      <td>5</td>\n      <td>0.000000</td>\n      <td>0.000000</td>\n      <td>0.000000</td>\n      <td>0.000000</td>\n      <td>0</td>\n      <td>0</td>\n      <td>0.000</td>\n      <td>0.000</td>\n      <td>0.0</td>\n      <td>0.0</td>\n      <td>0</td>\n      <td>0</td>\n    </tr>\n    <tr>\n      <th>2555</th>\n      <td>5</td>\n      <td>0.000000</td>\n      <td>0.000000</td>\n      <td>0.000000</td>\n      <td>0.000000</td>\n      <td>0</td>\n      <td>0</td>\n      <td>0.000</td>\n      <td>0.000</td>\n      <td>0.0</td>\n      <td>0.0</td>\n      <td>0</td>\n      <td>0</td>\n    </tr>\n    <tr>\n      <th>549</th>\n      <td>4</td>\n      <td>0.250000</td>\n      <td>0.250000</td>\n      <td>0.250000</td>\n      <td>0.250000</td>\n      <td>1</td>\n      <td>1</td>\n      <td>0.000</td>\n      <td>0.000</td>\n      <td>0.0</td>\n      <td>0.0</td>\n      <td>0</td>\n      <td>0</td>\n    </tr>\n    <tr>\n      <th>...</th>\n      <td>...</td>\n      <td>...</td>\n      <td>...</td>\n      <td>...</td>\n      <td>...</td>\n      <td>...</td>\n      <td>...</td>\n      <td>...</td>\n      <td>...</td>\n      <td>...</td>\n      <td>...</td>\n      <td>...</td>\n      <td>...</td>\n    </tr>\n    <tr>\n      <th>3092</th>\n      <td>5</td>\n      <td>0.750000</td>\n      <td>0.750000</td>\n      <td>0.000000</td>\n      <td>0.000000</td>\n      <td>1</td>\n      <td>0</td>\n      <td>0.750</td>\n      <td>0.750</td>\n      <td>0.0</td>\n      <td>0.0</td>\n      <td>1</td>\n      <td>0</td>\n    </tr>\n    <tr>\n      <th>1095</th>\n      <td>5</td>\n      <td>0.000000</td>\n      <td>0.000000</td>\n      <td>0.684653</td>\n      <td>0.684653</td>\n      <td>0</td>\n      <td>1</td>\n      <td>0.000</td>\n      <td>0.000</td>\n      <td>0.0</td>\n      <td>0.0</td>\n      <td>0</td>\n      <td>0</td>\n    </tr>\n    <tr>\n      <th>1130</th>\n      <td>5</td>\n      <td>0.433013</td>\n      <td>0.433013</td>\n      <td>0.433013</td>\n      <td>0.433013</td>\n      <td>1</td>\n      <td>1</td>\n      <td>0.000</td>\n      <td>0.000</td>\n      <td>0.0</td>\n      <td>0.0</td>\n      <td>0</td>\n      <td>0</td>\n    </tr>\n    <tr>\n      <th>1294</th>\n      <td>5</td>\n      <td>0.000000</td>\n      <td>0.000000</td>\n      <td>0.000000</td>\n      <td>0.000000</td>\n      <td>0</td>\n      <td>0</td>\n      <td>0.875</td>\n      <td>0.875</td>\n      <td>0.0</td>\n      <td>0.0</td>\n      <td>1</td>\n      <td>0</td>\n    </tr>\n    <tr>\n      <th>860</th>\n      <td>4</td>\n      <td>0.000000</td>\n      <td>0.000000</td>\n      <td>0.000000</td>\n      <td>0.000000</td>\n      <td>0</td>\n      <td>0</td>\n      <td>0.750</td>\n      <td>0.750</td>\n      <td>0.0</td>\n      <td>0.0</td>\n      <td>1</td>\n      <td>0</td>\n    </tr>\n  </tbody>\n</table>\n<p>2200 rows × 13 columns</p>\n</div>"
     },
     "metadata": {},
     "execution_count": 51
    }
   ],
   "source": [
    "#visualize train data\n",
    "X_train"
   ]
  },
  {
   "cell_type": "code",
   "execution_count": 52,
   "metadata": {},
   "outputs": [
    {
     "output_type": "execute_result",
     "data": {
      "text/plain": "      overall       RPM       RPA       RNM       RNA  RNP  RNN    SPM    SPA  \\\n2993        5  0.125000  0.125000  0.000000  0.000000    1    0  0.000  0.000   \n2971        5  0.000000  0.000000  0.000000  0.000000    0    0  0.000  0.000   \n1064        5  0.000000  0.000000  0.000000  0.000000    0    0  0.000  0.000   \n1987        5  0.000000  0.000000  0.000000  0.000000    0    0  0.000  0.000   \n2990        5  0.000000  0.000000  0.000000  0.000000    0    0  0.875  0.875   \n...       ...       ...       ...       ...       ...  ...  ...    ...    ...   \n748         4  0.250000  0.250000  0.125000  0.125000    1    1  0.000  0.000   \n1666        5  0.625000  0.489277  0.353553  0.239277    2    2  0.000  0.000   \n662         4  0.395285  0.260142  0.559017  0.559017    2    1  0.125  0.125   \n480         3  0.875000  0.875000  0.000000  0.000000    1    0  0.000  0.000   \n803         4  0.000000  0.000000  0.000000  0.000000    0    0  0.000  0.000   \n\n        SNM    SNA  SNP  SNN  \n2993  0.000  0.000    0    0  \n2971  0.000  0.000    0    0  \n1064  0.000  0.000    0    0  \n1987  0.000  0.000    0    0  \n2990  0.125  0.125    1    1  \n...     ...    ...  ...  ...  \n748   0.000  0.000    0    0  \n1666  0.000  0.000    0    0  \n662   0.000  0.000    1    0  \n480   0.000  0.000    0    0  \n803   0.000  0.000    0    0  \n\n[944 rows x 13 columns]",
      "text/html": "<div>\n<style scoped>\n    .dataframe tbody tr th:only-of-type {\n        vertical-align: middle;\n    }\n\n    .dataframe tbody tr th {\n        vertical-align: top;\n    }\n\n    .dataframe thead th {\n        text-align: right;\n    }\n</style>\n<table border=\"1\" class=\"dataframe\">\n  <thead>\n    <tr style=\"text-align: right;\">\n      <th></th>\n      <th>overall</th>\n      <th>RPM</th>\n      <th>RPA</th>\n      <th>RNM</th>\n      <th>RNA</th>\n      <th>RNP</th>\n      <th>RNN</th>\n      <th>SPM</th>\n      <th>SPA</th>\n      <th>SNM</th>\n      <th>SNA</th>\n      <th>SNP</th>\n      <th>SNN</th>\n    </tr>\n  </thead>\n  <tbody>\n    <tr>\n      <th>2993</th>\n      <td>5</td>\n      <td>0.125000</td>\n      <td>0.125000</td>\n      <td>0.000000</td>\n      <td>0.000000</td>\n      <td>1</td>\n      <td>0</td>\n      <td>0.000</td>\n      <td>0.000</td>\n      <td>0.000</td>\n      <td>0.000</td>\n      <td>0</td>\n      <td>0</td>\n    </tr>\n    <tr>\n      <th>2971</th>\n      <td>5</td>\n      <td>0.000000</td>\n      <td>0.000000</td>\n      <td>0.000000</td>\n      <td>0.000000</td>\n      <td>0</td>\n      <td>0</td>\n      <td>0.000</td>\n      <td>0.000</td>\n      <td>0.000</td>\n      <td>0.000</td>\n      <td>0</td>\n      <td>0</td>\n    </tr>\n    <tr>\n      <th>1064</th>\n      <td>5</td>\n      <td>0.000000</td>\n      <td>0.000000</td>\n      <td>0.000000</td>\n      <td>0.000000</td>\n      <td>0</td>\n      <td>0</td>\n      <td>0.000</td>\n      <td>0.000</td>\n      <td>0.000</td>\n      <td>0.000</td>\n      <td>0</td>\n      <td>0</td>\n    </tr>\n    <tr>\n      <th>1987</th>\n      <td>5</td>\n      <td>0.000000</td>\n      <td>0.000000</td>\n      <td>0.000000</td>\n      <td>0.000000</td>\n      <td>0</td>\n      <td>0</td>\n      <td>0.000</td>\n      <td>0.000</td>\n      <td>0.000</td>\n      <td>0.000</td>\n      <td>0</td>\n      <td>0</td>\n    </tr>\n    <tr>\n      <th>2990</th>\n      <td>5</td>\n      <td>0.000000</td>\n      <td>0.000000</td>\n      <td>0.000000</td>\n      <td>0.000000</td>\n      <td>0</td>\n      <td>0</td>\n      <td>0.875</td>\n      <td>0.875</td>\n      <td>0.125</td>\n      <td>0.125</td>\n      <td>1</td>\n      <td>1</td>\n    </tr>\n    <tr>\n      <th>...</th>\n      <td>...</td>\n      <td>...</td>\n      <td>...</td>\n      <td>...</td>\n      <td>...</td>\n      <td>...</td>\n      <td>...</td>\n      <td>...</td>\n      <td>...</td>\n      <td>...</td>\n      <td>...</td>\n      <td>...</td>\n      <td>...</td>\n    </tr>\n    <tr>\n      <th>748</th>\n      <td>4</td>\n      <td>0.250000</td>\n      <td>0.250000</td>\n      <td>0.125000</td>\n      <td>0.125000</td>\n      <td>1</td>\n      <td>1</td>\n      <td>0.000</td>\n      <td>0.000</td>\n      <td>0.000</td>\n      <td>0.000</td>\n      <td>0</td>\n      <td>0</td>\n    </tr>\n    <tr>\n      <th>1666</th>\n      <td>5</td>\n      <td>0.625000</td>\n      <td>0.489277</td>\n      <td>0.353553</td>\n      <td>0.239277</td>\n      <td>2</td>\n      <td>2</td>\n      <td>0.000</td>\n      <td>0.000</td>\n      <td>0.000</td>\n      <td>0.000</td>\n      <td>0</td>\n      <td>0</td>\n    </tr>\n    <tr>\n      <th>662</th>\n      <td>4</td>\n      <td>0.395285</td>\n      <td>0.260142</td>\n      <td>0.559017</td>\n      <td>0.559017</td>\n      <td>2</td>\n      <td>1</td>\n      <td>0.125</td>\n      <td>0.125</td>\n      <td>0.000</td>\n      <td>0.000</td>\n      <td>1</td>\n      <td>0</td>\n    </tr>\n    <tr>\n      <th>480</th>\n      <td>3</td>\n      <td>0.875000</td>\n      <td>0.875000</td>\n      <td>0.000000</td>\n      <td>0.000000</td>\n      <td>1</td>\n      <td>0</td>\n      <td>0.000</td>\n      <td>0.000</td>\n      <td>0.000</td>\n      <td>0.000</td>\n      <td>0</td>\n      <td>0</td>\n    </tr>\n    <tr>\n      <th>803</th>\n      <td>4</td>\n      <td>0.000000</td>\n      <td>0.000000</td>\n      <td>0.000000</td>\n      <td>0.000000</td>\n      <td>0</td>\n      <td>0</td>\n      <td>0.000</td>\n      <td>0.000</td>\n      <td>0.000</td>\n      <td>0.000</td>\n      <td>0</td>\n      <td>0</td>\n    </tr>\n  </tbody>\n</table>\n<p>944 rows × 13 columns</p>\n</div>"
     },
     "metadata": {},
     "execution_count": 52
    }
   ],
   "source": [
    "#visualize test data\n",
    "X_test"
   ]
  },
  {
   "cell_type": "code",
   "execution_count": 53,
   "metadata": {
    "tags": []
   },
   "outputs": [
    {
     "output_type": "execute_result",
     "data": {
      "text/plain": "LinearRegression(copy_X=False)"
     },
     "metadata": {},
     "execution_count": 53
    }
   ],
   "source": [
    "#linear regration model \n",
    "reg = linear_model.LinearRegression(copy_X=False)\n",
    "reg.fit(X_train.drop('overall',axis='columns'),X_train.overall)"
   ]
  },
  {
   "cell_type": "code",
   "execution_count": 54,
   "metadata": {
    "tags": []
   },
   "outputs": [
    {
     "output_type": "stream",
     "name": "stdout",
     "text": "&lt;==================Linear Regration Model=====================&gt;\nStart detecting........\n\n&lt;==================Train===================&gt;\ncorrect= 1189\ntotal= 2200\naccuracy= 54.04545454545454 %\n&lt;==================Test===================&gt;\ncorrect= 503\ntotal= 944\naccuracy= 53.28389830508474 %\n\n..............Detection End............\nTotal execution time:  1.01551774499967\n"
    }
   ],
   "source": [
    "import timeit\n",
    "print(\"<==================Linear Regration Model=====================>\")\n",
    "print(\"Start detecting........\\n\")\n",
    "start = timeit.default_timer()\n",
    "print(\"<==================Train===================>\")\n",
    "correct=0\n",
    "total=0\n",
    "for index, row in X_train.iterrows():\n",
    "    Y=reg.predict([[row[\"RPM\"], row[\"RPA\"], row[\"RNM\"], row[\"RNA\"], row[\"RNP\"], row[\"RNN\"], row[\"SPM\"], row[\"SPA\"], row[\"SNM\"], row[\"SNA\"], row[\"SNP\"], row[\"SNN\"]]])\n",
    "    total+=1\n",
    "    if(abs(Y-row[\"overall\"])<0.5):\n",
    "        correct+=1\n",
    "print(\"correct=\", correct)\n",
    "print(\"total=\", total)\n",
    "print(\"accuracy=\",(correct/total)*100,\"%\")\n",
    "\n",
    "print(\"<==================Test===================>\")\n",
    "correct=0\n",
    "total=0\n",
    "for index, row in X_test.iterrows():\n",
    "    Y=reg.predict([[row[\"RPM\"], row[\"RPA\"], row[\"RNM\"], row[\"RNA\"], row[\"RNP\"], row[\"RNN\"], row[\"SPM\"], row[\"SPA\"], row[\"SNM\"], row[\"SNA\"], row[\"SNP\"], row[\"SNN\"]]])\n",
    "    total+=1\n",
    "    if(abs(Y-row[\"overall\"])<0.5):\n",
    "        correct+=1\n",
    "print(\"correct=\", correct)\n",
    "print(\"total=\", total)\n",
    "print(\"accuracy=\",(correct/total)*100,\"%\")\n",
    "print(\"\\n..............Detection End............\")\n",
    "stop = timeit.default_timer()\n",
    "print('Total execution time: ', stop - start)"
   ]
  },
  {
   "cell_type": "code",
   "execution_count": 55,
   "metadata": {},
   "outputs": [
    {
     "output_type": "execute_result",
     "data": {
      "text/plain": "LogisticRegression()"
     },
     "metadata": {},
     "execution_count": 55
    }
   ],
   "source": [
    "#logistic regration model\n",
    "lReg = linear_model.LogisticRegression()\n",
    "lReg.fit(X_train.drop('overall',axis='columns'),X_train.overall)"
   ]
  },
  {
   "cell_type": "code",
   "execution_count": 56,
   "metadata": {
    "tags": []
   },
   "outputs": [
    {
     "output_type": "stream",
     "name": "stdout",
     "text": "&lt;==================Logistic Regration Model=====================&gt;\nStart detecting........\n\n&lt;==================Train===================&gt;\ncorrect= 1571\ntotal= 2200\naccuracy= 71.4090909090909 %\n&lt;==================Test===================&gt;\ncorrect= 651\ntotal= 944\naccuracy= 68.96186440677965 %\n\n..............Detection End............\nTotal execution time:  0.8862857440035441\n"
    }
   ],
   "source": [
    "import timeit\n",
    "print(\"<==================Logistic Regration Model=====================>\")\n",
    "print(\"Start detecting........\\n\")\n",
    "start = timeit.default_timer()\n",
    "print(\"<==================Train===================>\")\n",
    "correct=0\n",
    "total=0\n",
    "for index, row in X_train.iterrows():\n",
    "    Y=lReg.predict([[row[\"RPM\"], row[\"RPA\"], row[\"RNM\"], row[\"RNA\"], row[\"RNP\"], row[\"RNN\"], row[\"SPM\"], row[\"SPA\"], row[\"SNM\"], row[\"SNA\"], row[\"SNP\"], row[\"SNN\"]]])\n",
    "    total+=1\n",
    "    if(abs(Y-row[\"overall\"])<0.5):\n",
    "        correct+=1\n",
    "print(\"correct=\", correct)\n",
    "print(\"total=\", total)\n",
    "print(\"accuracy=\",(correct/total)*100,\"%\")\n",
    "\n",
    "print(\"<==================Test===================>\")\n",
    "correct=0\n",
    "total=0\n",
    "for index, row in X_test.iterrows():\n",
    "    Y=lReg.predict([[row[\"RPM\"], row[\"RPA\"], row[\"RNM\"], row[\"RNA\"], row[\"RNP\"], row[\"RNN\"], row[\"SPM\"], row[\"SPA\"], row[\"SNM\"], row[\"SNA\"], row[\"SNP\"], row[\"SNN\"]]])\n",
    "    total+=1\n",
    "    if(abs(Y-row[\"overall\"])<0.5):\n",
    "        correct+=1\n",
    "print(\"correct=\", correct)\n",
    "print(\"total=\", total)\n",
    "print(\"accuracy=\",(correct/total)*100,\"%\")\n",
    "print(\"\\n..............Detection End............\")\n",
    "stop = timeit.default_timer()\n",
    "print('Total execution time: ', stop - start)"
   ]
  },
  {
   "cell_type": "code",
   "execution_count": 57,
   "metadata": {},
   "outputs": [
    {
     "output_type": "execute_result",
     "data": {
      "text/plain": "RandomForestClassifier(n_estimators=1)"
     },
     "metadata": {},
     "execution_count": 57
    }
   ],
   "source": [
    "#random forest classifier\n",
    "from sklearn.ensemble import RandomForestClassifier\n",
    "from sklearn.datasets import make_regression\n",
    "rfc = RandomForestClassifier(n_estimators=1)\n",
    "rfc.fit(X_train.drop('overall',axis='columns'),X_train.overall)"
   ]
  },
  {
   "cell_type": "code",
   "execution_count": 58,
   "metadata": {
    "tags": []
   },
   "outputs": [
    {
     "output_type": "stream",
     "name": "stdout",
     "text": "&lt;================== Random Forest Classifier=====================&gt;\nStart detecting........\n\n&lt;==================Train===================&gt;\ncorrect= 1921\ntotal= 2200\naccuracy= 87.31818181818181 %\n&lt;==================Test===================&gt;\ncorrect= 810\ntotal= 944\naccuracy= 85.80508474576271 %\n\n..............Detection End............\nTotal execution time:  2.385592965001706\n"
    }
   ],
   "source": [
    "import timeit\n",
    "print(\"<================== Random Forest Classifier=====================>\")\n",
    "print(\"Start detecting........\\n\")\n",
    "start = timeit.default_timer()\n",
    "print(\"<==================Train===================>\")\n",
    "correct=0\n",
    "total=0\n",
    "for index, row in X_train.iterrows():\n",
    "    Y=rfc.predict([[row[\"RPM\"], row[\"RPA\"], row[\"RNM\"], row[\"RNA\"], row[\"RNP\"], row[\"RNN\"], row[\"SPM\"], row[\"SPA\"], row[\"SNM\"], row[\"SNA\"], row[\"SNP\"], row[\"SNN\"]]])\n",
    "    total+=1\n",
    "    if(abs(Y-row[\"overall\"])<0.5):\n",
    "        correct+=1\n",
    "print(\"correct=\", correct)\n",
    "print(\"total=\", total)\n",
    "print(\"accuracy=\",(correct/total)*100,\"%\")\n",
    "\n",
    "print(\"<==================Test===================>\")\n",
    "correct=0\n",
    "total=0\n",
    "for index, row in X_test.iterrows():\n",
    "    Y=rfc.predict([[row[\"RPM\"], row[\"RPA\"], row[\"RNM\"], row[\"RNA\"], row[\"RNP\"], row[\"RNN\"], row[\"SPM\"], row[\"SPA\"], row[\"SNM\"], row[\"SNA\"], row[\"SNP\"], row[\"SNN\"]]])\n",
    "    total+=1\n",
    "    if(abs(Y-row[\"overall\"])<0.5):\n",
    "        correct+=1\n",
    "print(\"correct=\", correct)\n",
    "print(\"total=\", total)\n",
    "print(\"accuracy=\",(correct/total)*100,\"%\")\n",
    "print(\"\\n..............Detection End............\")\n",
    "stop = timeit.default_timer()\n",
    "print('Total execution time: ', stop - start)"
   ]
  },
  {
   "cell_type": "code",
   "execution_count": 59,
   "metadata": {},
   "outputs": [
    {
     "output_type": "execute_result",
     "data": {
      "text/plain": "DecisionTreeClassifier(max_features=&#39;log2&#39;)"
     },
     "metadata": {},
     "execution_count": 59
    }
   ],
   "source": [
    "#decision tree classifier\n",
    "from sklearn import tree\n",
    "dtc=tree.DecisionTreeClassifier(max_features=\"log2\")\n",
    "dtc.fit(X_train.drop('overall',axis='columns'),X_train.overall)"
   ]
  },
  {
   "cell_type": "code",
   "execution_count": 60,
   "metadata": {
    "tags": []
   },
   "outputs": [
    {
     "output_type": "stream",
     "name": "stdout",
     "text": "&lt;================== Decision Tree Classifier=====================&gt;\nStart detecting........\n\n&lt;==================Train===================&gt;\ncorrect= 1932\ntotal= 2200\naccuracy= 87.81818181818181 %\n&lt;==================Test===================&gt;\ncorrect= 808\ntotal= 944\naccuracy= 85.59322033898306 %\n\n..............Detection End............\nTotal execution time:  0.8938396529993042\n"
    }
   ],
   "source": [
    "import timeit\n",
    "print(\"<================== Decision Tree Classifier=====================>\")\n",
    "print(\"Start detecting........\\n\")\n",
    "start = timeit.default_timer()\n",
    "print(\"<==================Train===================>\")\n",
    "correct=0\n",
    "total=0\n",
    "for index, row in X_train.iterrows():\n",
    "    Y=dtc.predict([[row[\"RPM\"], row[\"RPA\"], row[\"RNM\"], row[\"RNA\"], row[\"RNP\"], row[\"RNN\"], row[\"SPM\"], row[\"SPA\"], row[\"SNM\"], row[\"SNA\"], row[\"SNP\"], row[\"SNN\"]]])\n",
    "    total+=1\n",
    "    if(abs(Y-row[\"overall\"])<0.5):\n",
    "        correct+=1\n",
    "print(\"correct=\", correct)\n",
    "print(\"total=\", total)\n",
    "print(\"accuracy=\",(correct/total)*100,\"%\")\n",
    "\n",
    "print(\"<==================Test===================>\")\n",
    "correct=0\n",
    "total=0\n",
    "for index, row in X_test.iterrows():\n",
    "    Y=dtc.predict([[row[\"RPM\"], row[\"RPA\"], row[\"RNM\"], row[\"RNA\"], row[\"RNP\"], row[\"RNN\"], row[\"SPM\"], row[\"SPA\"], row[\"SNM\"], row[\"SNA\"], row[\"SNP\"], row[\"SNN\"]]])\n",
    "    total+=1\n",
    "    if(abs(Y-row[\"overall\"])<0.5):\n",
    "        correct+=1\n",
    "print(\"correct=\", correct)\n",
    "print(\"total=\", total)\n",
    "print(\"accuracy=\",(correct/total)*100,\"%\")\n",
    "print(\"\\n..............Detection End............\")\n",
    "stop = timeit.default_timer()\n",
    "print('Total execution time: ', stop - start)"
   ]
  },
  {
   "cell_type": "code",
   "execution_count": 61,
   "metadata": {},
   "outputs": [
    {
     "output_type": "execute_result",
     "data": {
      "text/plain": "GaussianNB()"
     },
     "metadata": {},
     "execution_count": 61
    }
   ],
   "source": [
    "#Gaussian Naive Bayes Classifiers\n",
    "from sklearn.naive_bayes import GaussianNB \n",
    "gnb=GaussianNB()\n",
    "gnb.fit(X_train.drop('overall',axis='columns'),X_train.overall)"
   ]
  },
  {
   "cell_type": "code",
   "execution_count": 62,
   "metadata": {
    "tags": []
   },
   "outputs": [
    {
     "output_type": "stream",
     "name": "stdout",
     "text": "&lt;================== Naive Bayes Classifiers=====================&gt;\nStart detecting........\n\n&lt;==================Train===================&gt;\ncorrect= 1328\ntotal= 2200\naccuracy= 60.36363636363637 %\n&lt;==================Test===================&gt;\ncorrect= 545\ntotal= 944\naccuracy= 57.733050847457626 %\n\n..............Detection End............\nTotal execution time:  1.4933459919993766\n"
    }
   ],
   "source": [
    "import timeit\n",
    "print(\"<================== Naive Bayes Classifiers=====================>\")\n",
    "print(\"Start detecting........\\n\")\n",
    "start = timeit.default_timer()\n",
    "print(\"<==================Train===================>\")\n",
    "correct=0\n",
    "total=0\n",
    "for index, row in X_train.iterrows():\n",
    "    Y=gnb.predict([[row[\"RPM\"], row[\"RPA\"], row[\"RNM\"], row[\"RNA\"], row[\"RNP\"], row[\"RNN\"], row[\"SPM\"], row[\"SPA\"], row[\"SNM\"], row[\"SNA\"], row[\"SNP\"], row[\"SNN\"]]])\n",
    "    total+=1\n",
    "    if(abs(Y-row[\"overall\"])<0.5):\n",
    "        correct+=1\n",
    "print(\"correct=\", correct)\n",
    "print(\"total=\", total)\n",
    "print(\"accuracy=\",(correct/total)*100,\"%\")\n",
    "\n",
    "print(\"<==================Test===================>\")\n",
    "correct=0\n",
    "total=0\n",
    "for index, row in X_test.iterrows():\n",
    "    Y=gnb.predict([[row[\"RPM\"], row[\"RPA\"], row[\"RNM\"], row[\"RNA\"], row[\"RNP\"], row[\"RNN\"], row[\"SPM\"], row[\"SPA\"], row[\"SNM\"], row[\"SNA\"], row[\"SNP\"], row[\"SNN\"]]])\n",
    "    total+=1\n",
    "    if(abs(Y-row[\"overall\"])<0.5):\n",
    "        correct+=1\n",
    "print(\"correct=\", correct)\n",
    "print(\"total=\", total)\n",
    "print(\"accuracy=\",(correct/total)*100,\"%\")\n",
    "print(\"\\n..............Detection End............\")\n",
    "stop = timeit.default_timer()\n",
    "print('Total execution time: ', stop - start)"
   ]
  },
  {
   "cell_type": "code",
   "execution_count": 63,
   "metadata": {},
   "outputs": [
    {
     "output_type": "execute_result",
     "data": {
      "text/plain": "SVC(C=30)"
     },
     "metadata": {},
     "execution_count": 63
    }
   ],
   "source": [
    "#Support Vector Machine Classifiers\n",
    "from sklearn import svm\n",
    "svmc = svm.SVC( C=30)\n",
    "svmc.fit(X_train.drop('overall',axis='columns'),X_train.overall)"
   ]
  },
  {
   "cell_type": "code",
   "execution_count": 64,
   "metadata": {
    "tags": []
   },
   "outputs": [
    {
     "output_type": "stream",
     "name": "stdout",
     "text": "&lt;================== SVM Classifiers=====================&gt;\nStart detecting........\n\n&lt;==================Train===================&gt;\ncorrect= 1833\ntotal= 2200\naccuracy= 83.31818181818181 %\n&lt;==================Test===================&gt;\ncorrect= 774\ntotal= 944\naccuracy= 81.99152542372882 %\n\n..............Detection End............\nTotal execution time:  1.1582112050018623\n"
    }
   ],
   "source": [
    "import timeit\n",
    "print(\"<================== SVM Classifiers=====================>\")\n",
    "print(\"Start detecting........\\n\")\n",
    "start = timeit.default_timer()\n",
    "print(\"<==================Train===================>\")\n",
    "correct=0\n",
    "total=0\n",
    "for index, row in X_train.iterrows():\n",
    "    Y=svmc.predict([[row[\"RPM\"], row[\"RPA\"], row[\"RNM\"], row[\"RNA\"], row[\"RNP\"], row[\"RNN\"], row[\"SPM\"], row[\"SPA\"], row[\"SNM\"], row[\"SNA\"], row[\"SNP\"], row[\"SNN\"]]])\n",
    "    total+=1\n",
    "    if(abs(Y-row[\"overall\"])<0.5):\n",
    "        correct+=1\n",
    "print(\"correct=\", correct)\n",
    "print(\"total=\", total)\n",
    "print(\"accuracy=\",(correct/total)*100,\"%\")\n",
    "\n",
    "print(\"<==================Test===================>\")\n",
    "correct=0\n",
    "total=0\n",
    "for index, row in X_test.iterrows():\n",
    "    Y=svmc.predict([[row[\"RPM\"], row[\"RPA\"], row[\"RNM\"], row[\"RNA\"], row[\"RNP\"], row[\"RNN\"], row[\"SPM\"], row[\"SPA\"], row[\"SNM\"], row[\"SNA\"], row[\"SNP\"], row[\"SNN\"]]])\n",
    "    total+=1\n",
    "    if(abs(Y-row[\"overall\"])<0.5):\n",
    "        correct+=1\n",
    "print(\"correct=\", correct)\n",
    "print(\"total=\", total)\n",
    "print(\"accuracy=\",(correct/total)*100,\"%\")\n",
    "print(\"\\n..............Detection End............\")\n",
    "stop = timeit.default_timer()\n",
    "print('Total execution time: ', stop - start)"
   ]
  },
  {
   "cell_type": "code",
   "execution_count": 65,
   "metadata": {},
   "outputs": [
    {
     "output_type": "execute_result",
     "data": {
      "text/plain": "KNeighborsClassifier(n_neighbors=1, weights=&#39;distance&#39;)"
     },
     "metadata": {},
     "execution_count": 65
    }
   ],
   "source": [
    "from sklearn.neighbors import KNeighborsClassifier\n",
    "knn = KNeighborsClassifier(n_neighbors=1, weights='distance')\n",
    "knn.fit(X_train.drop('overall',axis='columns'),X_train.overall)"
   ]
  },
  {
   "cell_type": "code",
   "execution_count": 66,
   "metadata": {
    "tags": []
   },
   "outputs": [
    {
     "output_type": "stream",
     "name": "stdout",
     "text": "&lt;================== KNN Classifiers=====================&gt;\nStart detecting........\n\n&lt;==================Train===================&gt;\ncorrect= 1905\ntotal= 2200\naccuracy= 86.5909090909091 %\n&lt;==================Test===================&gt;\ncorrect= 808\ntotal= 944\naccuracy= 85.59322033898306 %\n\n..............Detection End............\nTotal execution time:  4.934218267997494\n"
    }
   ],
   "source": [
    "import timeit\n",
    "print(\"<================== KNN Classifiers=====================>\")\n",
    "print(\"Start detecting........\\n\")\n",
    "start = timeit.default_timer()\n",
    "print(\"<==================Train===================>\")\n",
    "correct=0\n",
    "total=0\n",
    "for index, row in X_train.iterrows():\n",
    "    Y=knn.predict([[row[\"RPM\"], row[\"RPA\"], row[\"RNM\"], row[\"RNA\"], row[\"RNP\"], row[\"RNN\"], row[\"SPM\"], row[\"SPA\"], row[\"SNM\"], row[\"SNA\"], row[\"SNP\"], row[\"SNN\"]]])\n",
    "    total+=1\n",
    "    if(abs(Y-row[\"overall\"])<0.5):\n",
    "        correct+=1\n",
    "print(\"correct=\", correct)\n",
    "print(\"total=\", total)\n",
    "print(\"accuracy=\",(correct/total)*100,\"%\")\n",
    "\n",
    "print(\"<==================Test===================>\")\n",
    "correct=0\n",
    "total=0\n",
    "for index, row in X_test.iterrows():\n",
    "    Y=knn.predict([[row[\"RPM\"], row[\"RPA\"], row[\"RNM\"], row[\"RNA\"], row[\"RNP\"], row[\"RNN\"], row[\"SPM\"], row[\"SPA\"], row[\"SNM\"], row[\"SNA\"], row[\"SNP\"], row[\"SNN\"]]])\n",
    "    total+=1\n",
    "    if(abs(Y-row[\"overall\"])<0.5):\n",
    "        correct+=1\n",
    "print(\"correct=\", correct)\n",
    "print(\"total=\", total)\n",
    "print(\"accuracy=\",(correct/total)*100,\"%\")\n",
    "print(\"\\n..............Detection End............\")\n",
    "stop = timeit.default_timer()\n",
    "print('Total execution time: ', stop - start)"
   ]
  },
  {
   "cell_type": "code",
   "execution_count": 67,
   "metadata": {},
   "outputs": [
    {
     "output_type": "execute_result",
     "data": {
      "text/plain": "AdaBoostClassifier(algorithm=&#39;SAMME&#39;, learning_rate=0.01, n_estimators=1)"
     },
     "metadata": {},
     "execution_count": 67
    }
   ],
   "source": [
    "from sklearn.ensemble import AdaBoostClassifier\n",
    "abc = AdaBoostClassifier(n_estimators=1, learning_rate=0.01,algorithm='SAMME')\n",
    "abc.fit(X_train.drop('overall',axis='columns'),X_train.overall)"
   ]
  },
  {
   "cell_type": "code",
   "execution_count": 68,
   "metadata": {
    "tags": []
   },
   "outputs": [
    {
     "output_type": "stream",
     "name": "stdout",
     "text": "&lt;==================Ada Boost Classifier=====================&gt;\nStart detecting........\n\n&lt;==================Train===================&gt;\ncorrect= 1555\ntotal= 2200\naccuracy= 70.68181818181817 %\n&lt;==================Test===================&gt;\ncorrect= 651\ntotal= 944\naccuracy= 68.96186440677965 %\n\n..............Detection End............\nTotal execution time:  2.1891397389990743\n"
    }
   ],
   "source": [
    "import timeit\n",
    "print(\"<==================Ada Boost Classifier=====================>\")\n",
    "print(\"Start detecting........\\n\")\n",
    "start = timeit.default_timer()\n",
    "print(\"<==================Train===================>\")\n",
    "correct=0\n",
    "total=0\n",
    "for index, row in X_train.iterrows():\n",
    "    Y=abc.predict([[row[\"RPM\"], row[\"RPA\"], row[\"RNM\"], row[\"RNA\"], row[\"RNP\"], row[\"RNN\"], row[\"SPM\"], row[\"SPA\"], row[\"SNM\"], row[\"SNA\"], row[\"SNP\"], row[\"SNN\"]]])\n",
    "    total+=1\n",
    "    if(abs(Y-row[\"overall\"])<0.5):\n",
    "        correct+=1\n",
    "print(\"correct=\", correct)\n",
    "print(\"total=\", total)\n",
    "print(\"accuracy=\",(correct/total)*100,\"%\")\n",
    "\n",
    "print(\"<==================Test===================>\")\n",
    "correct=0\n",
    "total=0\n",
    "for index, row in X_test.iterrows():\n",
    "    Y=abc.predict([[row[\"RPM\"], row[\"RPA\"], row[\"RNM\"], row[\"RNA\"], row[\"RNP\"], row[\"RNN\"], row[\"SPM\"], row[\"SPA\"], row[\"SNM\"], row[\"SNA\"], row[\"SNP\"], row[\"SNN\"]]])\n",
    "    total+=1\n",
    "    if(abs(Y-row[\"overall\"])<0.5):\n",
    "        correct+=1\n",
    "print(\"correct=\", correct)\n",
    "print(\"total=\", total)\n",
    "print(\"accuracy=\",(correct/total)*100,\"%\")\n",
    "print(\"\\n..............Detection End............\")\n",
    "stop = timeit.default_timer()\n",
    "print('Total execution time: ', stop - start)"
   ]
  },
  {
   "cell_type": "code",
   "execution_count": 69,
   "metadata": {},
   "outputs": [
    {
     "output_type": "execute_result",
     "data": {
      "text/plain": "MLPClassifier(hidden_layer_sizes=(64, 32, 16, 16, 32, 64), max_iter=500,\n              solver=&#39;lbfgs&#39;)"
     },
     "metadata": {},
     "execution_count": 69
    }
   ],
   "source": [
    "from sklearn.neural_network import MLPClassifier\n",
    "#mlpc = MLPClassifier(solver='lbfgs', alpha=1e-5,hidden_layer_sizes=(15,), random_state=1)\n",
    "mlpc = MLPClassifier(hidden_layer_sizes=(64,32,16,16,32,64), activation='relu', solver='lbfgs', max_iter=500)\n",
    "mlpc.fit(X_train.drop('overall',axis='columns'),X_train.overall)"
   ]
  },
  {
   "cell_type": "code",
   "execution_count": 70,
   "metadata": {
    "tags": []
   },
   "outputs": [
    {
     "output_type": "stream",
     "name": "stdout",
     "text": "&lt;==================Multi-layer Perceptron Classifier=====================&gt;\nStart detecting........\n\n&lt;==================Train===================&gt;\ncorrect= 1929\ntotal= 2200\naccuracy= 87.68181818181819 %\n&lt;==================Test===================&gt;\ncorrect= 807\ntotal= 944\naccuracy= 85.48728813559322 %\n\n..............Detection End............\nTotal execution time:  3.6588670260025538\n"
    }
   ],
   "source": [
    "import timeit\n",
    "print(\"<==================Multi-layer Perceptron Classifier=====================>\")\n",
    "print(\"Start detecting........\\n\")\n",
    "start = timeit.default_timer()\n",
    "print(\"<==================Train===================>\")\n",
    "correct=0\n",
    "total=0\n",
    "for index, row in X_train.iterrows():\n",
    "    Y=mlpc.predict([[row[\"RPM\"], row[\"RPA\"], row[\"RNM\"], row[\"RNA\"], row[\"RNP\"], row[\"RNN\"], row[\"SPM\"], row[\"SPA\"], row[\"SNM\"], row[\"SNA\"], row[\"SNP\"], row[\"SNN\"]]])\n",
    "    total+=1\n",
    "    if(abs(Y-row[\"overall\"])<0.5):\n",
    "        correct+=1\n",
    "print(\"correct=\", correct)\n",
    "print(\"total=\", total)\n",
    "print(\"accuracy=\",(correct/total)*100,\"%\")\n",
    "\n",
    "print(\"<==================Test===================>\")\n",
    "correct=0\n",
    "total=0\n",
    "for index, row in X_test.iterrows():\n",
    "    Y=mlpc.predict([[row[\"RPM\"], row[\"RPA\"], row[\"RNM\"], row[\"RNA\"], row[\"RNP\"], row[\"RNN\"], row[\"SPM\"], row[\"SPA\"], row[\"SNM\"], row[\"SNA\"], row[\"SNP\"], row[\"SNN\"]]])\n",
    "    total+=1\n",
    "    if(abs(Y-row[\"overall\"])<0.5):\n",
    "        correct+=1\n",
    "print(\"correct=\", correct)\n",
    "print(\"total=\", total)\n",
    "print(\"accuracy=\",(correct/total)*100,\"%\")\n",
    "print(\"\\n..............Detection End............\")\n",
    "stop = timeit.default_timer()\n",
    "print('Total execution time: ', stop - start)"
   ]
  },
  {
   "cell_type": "code",
   "execution_count": null,
   "metadata": {},
   "outputs": [],
   "source": []
  }
 ]
}